{
 "cells": [
  {
   "cell_type": "markdown",
   "metadata": {},
   "source": [
    "# Notebook to \n",
    "\n",
    "## create trains_beginning.ini from timetable.csv\n",
    "\n",
    "## delete and recreate every delay_simulation_{}.csv file in data/delays"
   ]
  },
  {
   "cell_type": "code",
   "execution_count": null,
   "metadata": {},
   "outputs": [],
   "source": []
  },
  {
   "cell_type": "markdown",
   "metadata": {},
   "source": [
    "# moving the files from one repo to the other"
   ]
  },
  {
   "cell_type": "code",
   "execution_count": null,
   "metadata": {},
   "outputs": [],
   "source": [
    "for file in filter(x -> endswith(x, \".csv\"), readdir(path_ini))\n",
    "    mv(path_ini*file,path_end*file,force=true)\n",
    "end"
   ]
  },
  {
   "cell_type": "code",
   "execution_count": null,
   "metadata": {},
   "outputs": [],
   "source": []
  },
  {
   "cell_type": "code",
   "execution_count": null,
   "metadata": {},
   "outputs": [],
   "source": []
  },
  {
   "cell_type": "code",
   "execution_count": null,
   "metadata": {},
   "outputs": [],
   "source": []
  },
  {
   "cell_type": "code",
   "execution_count": 1,
   "metadata": {},
   "outputs": [],
   "source": [
    "using DataFrames, CSV\n",
    "using IJulia"
   ]
  },
  {
   "cell_type": "code",
   "execution_count": 2,
   "metadata": {},
   "outputs": [
    {
     "data": {
      "text/plain": [
       "get_train_begin (generic function with 1 method)"
      ]
     },
     "execution_count": 2,
     "metadata": {},
     "output_type": "execute_result"
    }
   ],
   "source": [
    "function get_train_begin(timetable_path::AbstractString,train_id::AbstractString)::Array{Any}\n",
    "    df = DataFrame(CSV.File(timetable_path*\"timetable.csv\"))\n",
    "    \n",
    "    df=df[isequal.(df.trainid,train_id),:]\n",
    "    \n",
    "    if !issubset([\"Begin\"], df.kind) && !issubset([\"Abfahrt\"], df.kind)\n",
    "        return [0,0,0,0]\n",
    "    end\n",
    "    \n",
    "    df=df[findfirst(in([\"Abfahrt\",\"Beginn\"]), df.kind), :]\n",
    "    \n",
    "    arr=[df.trainid,df.opid,df.kind,df.duetime]\n",
    "    \n",
    "    df= nothing\n",
    "    return arr\n",
    "end"
   ]
  },
  {
   "cell_type": "code",
   "execution_count": 5,
   "metadata": {},
   "outputs": [
    {
     "name": "stdout",
     "output_type": "stream",
     "text": [
      "SB29955\n"
     ]
    }
   ],
   "source": [
    "#getting the timetable df\n",
    "timetable_path=\"../data/simulation_data/\"\n",
    "df = DataFrame(CSV.File(timetable_path*\"timetable.csv\"))\n",
    "\n",
    "#getting begins array of beginnings of trains\n",
    "begins=[]\n",
    "train_list=unique(df.trainid)\n",
    "for train in train_list\n",
    "    IJulia.clear_output(true)\n",
    "    println(train)\n",
    "    push!(begins, get_train_begin(timetable_path,train))\n",
    "end\n",
    "\n",
    "#filter begins from zeros\n",
    "b=[0,0,0,0]\n",
    "filter!(x->x≠b,begins)\n",
    "\n",
    "#printing out the file\n",
    "path_out=\"../data/simulation_data/\"\n",
    "outfile = \"trains_beginning.ini\"\n",
    "f = open(path_out*outfile, \"w\")\n",
    "println(f,\"trainid,opid,kind,duetime\")\n",
    "for i in 1:length(begins)\n",
    "        \n",
    "    println(f,begins[i][1],\",\",begins[i][2],\",\",begins[i][3],\",\",begins[i][4])\n",
    "        \n",
    "end\n",
    "close(f)"
   ]
  },
  {
   "cell_type": "markdown",
   "metadata": {},
   "source": [
    "# lets redo the bash script in julia"
   ]
  },
  {
   "cell_type": "code",
   "execution_count": 2,
   "metadata": {},
   "outputs": [
    {
     "data": {
      "text/plain": [
       "createTrainIni (generic function with 1 method)"
      ]
     },
     "execution_count": 2,
     "metadata": {},
     "output_type": "execute_result"
    }
   ],
   "source": [
    "function createTrainIni(file::String)\n",
    "\n",
    "    INI = open(file, \"w\")\n",
    "        print(INI,\n",
    "\"\"\"\n",
    "#key                    value\n",
    "#############################\n",
    "#Range for the delay injected\n",
    "#############################\n",
    "step_beginning         0\n",
    "step_end               3000\n",
    "step_length            60\n",
    "#############################\n",
    "#List of trains to be delayed\n",
    "#############################\n",
    "SB22674\n",
    "SB24686\n",
    "\"\"\"\n",
    ")\n",
    "    close(INI)\n",
    "    println(\"Initial train file \\\"$file\\\" was missing and a default one was created.\\nPlease edit it and rerun.\")\n",
    "    exit()\n",
    "\n",
    "end\n"
   ]
  },
  {
   "cell_type": "code",
   "execution_count": 14,
   "metadata": {},
   "outputs": [
    {
     "data": {
      "text/plain": [
       "loadTrains (generic function with 2 methods)"
      ]
     },
     "execution_count": 14,
     "metadata": {},
     "output_type": "execute_result"
    }
   ],
   "source": [
    "function loadTrains(file::String=\"./trainIni.in\")\n",
    "    if !isfile(file)\n",
    "        createTrainIni(file)\n",
    "    end\n",
    "    \n",
    "    Interval = Dict{String,Any}()\n",
    "    Trains=[]\n",
    "    for line in eachline(file)\n",
    "        occursin(r\"^#\", line) && continue # ignore lines beginning with #\n",
    "        df = split(line, r\"\\s+\")\n",
    "        length(df) < 1 && continue # ignore empty lines\n",
    "        key = df[1]\n",
    "        println(key)\n",
    "        ####################################################################\n",
    "        if(key==\"step_beginning\") Interval[key]=parse(Int64, df[2])\n",
    "        ####################################################################\n",
    "        elseif(key==\"step_end\") Interval[key]=parse(Int64, df[2])\n",
    "        elseif(key==\"step_length\") Interval[key]=parse(Int64, df[2])\n",
    "        else push!(Trains,key)\n",
    "        end\n",
    "    end\n",
    "    \n",
    "    return Interval,Trains\n",
    "end"
   ]
  },
  {
   "cell_type": "code",
   "execution_count": 15,
   "metadata": {},
   "outputs": [
    {
     "name": "stdout",
     "output_type": "stream",
     "text": [
      "step_beginning\n",
      "step_end\n",
      "step_length\n",
      "SB22674\n",
      "SB24686\n"
     ]
    },
    {
     "data": {
      "text/plain": [
       "(Dict{String, Any}(\"step_end\" => 3000, \"step_beginning\" => 0, \"step_length\" => 60), Any[\"SB22674\", \"SB24686\"])"
      ]
     },
     "execution_count": 15,
     "metadata": {},
     "output_type": "execute_result"
    }
   ],
   "source": [
    "Interval = Dict{String,Any}()\n",
    "Trains=[]\n",
    "\n",
    "Interval,Trains=loadTrains()"
   ]
  },
  {
   "cell_type": "code",
   "execution_count": 16,
   "metadata": {},
   "outputs": [
    {
     "data": {
      "text/plain": [
       "read_non_hidden_files (generic function with 1 method)"
      ]
     },
     "execution_count": 16,
     "metadata": {},
     "output_type": "execute_result"
    }
   ],
   "source": [
    "function read_non_hidden_files(repo)::Vector{String}\n",
    "    return filter(!startswith(\".\") ∘ basename, readdir(repo))\n",
    "end"
   ]
  },
  {
   "cell_type": "code",
   "execution_count": 20,
   "metadata": {},
   "outputs": [],
   "source": [
    "#reloading the starting df for clarity\n",
    "path_out=\"../data/simulation_data/\"\n",
    "outfile = \"trains_beginning.ini\"\n",
    "starts= DataFrame(CSV.File(path_out*outfile, comment=\"#\"))\n",
    "\n",
    "#creating a dict from it\n",
    "start_dict=Dict((starts.trainid[i] => starts[i,2:3] for i=1:nrow(starts)) )\n",
    "\n",
    "#defining the train list and delay list\n",
    "#bad_trains=String[\"SB22674\",\"SB24686\"]#String[\"SB22674\",\"SB24686\",\"R2246\",\"R2265\",\"R2248\",\"RJ750\",\"SB21714\"]\n",
    "\n",
    "delays=Interval[\"step_beginning\"]:Interval[\"step_length\"]:Interval[\"step_end\"]\n",
    "\n",
    "\n",
    "#removing previous defined delay files\n",
    "delays_path=\"../data/delays/\"\n",
    "files=read_non_hidden_files(delays_path)\n",
    "for file in files\n",
    "   rm(delays_path*file) \n",
    "end\n",
    "\n",
    "#writing the new delay files\n",
    "\n",
    "count=1\n",
    "\n",
    "for train in Trains\n",
    "    for delay in delays\n",
    "        outfile = delays_path*\"imposed_delay_simulation_$count.csv\"\n",
    "        f = open(outfile, \"w\")\n",
    "        \n",
    "        println(f,\"trainid,opid,kind,duetime\")\n",
    "        println(f,train,\",\",start_dict[train].opid,\",\",start_dict[train].kind,\",\",delay)\n",
    "        \n",
    "        close(f)\n",
    "        \n",
    "        count+=1\n",
    "    end\n",
    "end"
   ]
  },
  {
   "cell_type": "code",
   "execution_count": null,
   "metadata": {},
   "outputs": [],
   "source": []
  }
 ],
 "metadata": {
  "kernelspec": {
   "display_name": "Julia 1.6.2",
   "language": "julia",
   "name": "julia-1.6"
  },
  "language_info": {
   "file_extension": ".jl",
   "mimetype": "application/julia",
   "name": "julia",
   "version": "1.6.2"
  }
 },
 "nbformat": 4,
 "nbformat_minor": 4
}
